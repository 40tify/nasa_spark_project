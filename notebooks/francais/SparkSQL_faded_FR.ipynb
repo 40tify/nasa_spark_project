{
 "cells": [
  {
   "cell_type": "code",
   "execution_count": 2,
   "metadata": {},
   "outputs": [],
   "source": [
    "import pyspark"
   ]
  },
  {
   "cell_type": "markdown",
   "metadata": {},
   "source": [
    "Comme nous l'avions fait avant avec l'API RDD, d'abord nous initializons un Spark Context:"
   ]
  },
  {
   "cell_type": "code",
   "execution_count": 3,
   "metadata": {},
   "outputs": [],
   "source": [
    "sc = pyspark.SparkContext()"
   ]
  },
  {
   "cell_type": "markdown",
   "metadata": {},
   "source": [
    "Maintenant nous pouvons passer le Spark Context, initialisé dans <code>sc</code> , à la fonction <code>SQLContext</code>. Il est une convention d'appeler la variable <code>spark</code>, mais vous verrez ainsi des exemples où le nom de cette variable est <code>sql</code> ou bien <code>SQLContext</code>."
   ]
  },
  {
   "cell_type": "code",
   "execution_count": 4,
   "metadata": {},
   "outputs": [],
   "source": [
    "from pyspark.sql import SQLContext\n",
    "\n",
    "spark = SQLContext(sc)"
   ]
  },
  {
   "cell_type": "markdown",
   "metadata": {},
   "source": [
    "L'API Spark SQL, contrairement à l'API RDD, contient une méthode pour lire des fichiers CSV directement. Nous allons l'utiliser pour charger notre jeu de données de l'exemple du musée présenté à la fin de l'atelier sur l'API RDD. Une autre façon de se servir de l'API SparkSQL pour charger des CSVs c'est avec la syntaxe <code>spark.read.format(\"csv\").load('MetObjects.csv')</code>. En lisant ceci vous vous demandez peut-être si l'API SparkSQL offre des méthodes pour lire d'autres formats directement... et la réponse est OUI! Nous ne verrons que le CSV en exemple aujourd'hui, mais vous pouvez trouver une liste complète de sources supportées par Spark ici: https://spark.apache.org/docs/latest/sql-data-sources.html"
   ]
  },
  {
   "cell_type": "code",
   "execution_count": 13,
   "metadata": {},
   "outputs": [],
   "source": [
    "museum_data = spark."
   ]
  },
  {
   "cell_type": "markdown",
   "metadata": {},
   "source": [
    "La commande ci-dessus a chargé notre CSV dans une structure de données appelée DataFrame. Si vous connaissez R ou la bibliothèque Python Pandas, vous vous sentirez chez vous avec l'API SparkSQL! \n",
    "\n",
    "La méthode <code>head</code> nous montre la première ligne d'un DataFrame. Vous remarquerez le mot 'Row' sur l'output: un DataFrame n'est qu'un RDD où les elements sont des objets de la classe <code>Row</code>!  "
   ]
  },
  {
   "cell_type": "code",
   "execution_count": 7,
   "metadata": {},
   "outputs": [
    {
     "data": {
      "text/plain": [
       "Row(Object Number='1979.486.1', Is Highlight='False', Is Timeline Work='False', Is Public Domain='False', Object ID='1', Gallery Number=None, Department='The American Wing', AccessionYear='1979', Object Name='Coin', Title='One-dollar Liberty Head Coin', Culture=None, Period=None, Dynasty=None, Reign=None, Portfolio=None, Constiuent ID='16429', Artist Role='Maker', Artist Prefix=None, Artist Display Name='James Barton Longacre', Artist Display Bio='American, Delaware County, Pennsylvania 1794–1869 Philadelphia, Pennsylvania', Artist Suffix=None, Artist Alpha Sort='Longacre, James Barton', Artist Nationality='American', Artist Begin Date='1794      ', Artist End Date='1869      ', Artist Gender=None, Artist ULAN URL='http://vocab.getty.edu/page/ulan/500011409', Artist Wikidata URL=None, Object Date='1853', Object Begin Date='1853', Object End Date='1853', Medium='Gold', Dimensions='Dimensions unavailable', Credit Line='Gift of Heinz L. Stoppelmann, 1979', Geography Type=None, City=None, State=None, County=None, Country=None, Region=None, Subregion=None, Locale=None, Locus=None, Excavation=None, River=None, Classification='Metal', Rights and Reproduction=None, Link Resource='http://www.metmuseum.org/art/collection/search/1', Object Wikidata URL=None, Metadata Date=None, Repository='Metropolitan Museum of Art, New York, NY', Tags=None, Tags AAT URL=None, Tags Wikidata URL=None)"
      ]
     },
     "execution_count": 7,
     "metadata": {},
     "output_type": "execute_result"
    }
   ],
   "source": [
    "museum_data."
   ]
  },
  {
   "cell_type": "markdown",
   "metadata": {},
   "source": [
    "Une autre manière de voir ce qu'il y a dans un DataFrame est la méthode <code>show</code>. Ceci vous montrera votre DataFrame d'une manière semblable à celle de l'output d'une commande SQL sur la console d'une Base de Données Relationels."
   ]
  },
  {
   "cell_type": "code",
   "execution_count": 8,
   "metadata": {},
   "outputs": [
    {
     "name": "stdout",
     "output_type": "stream",
     "text": [
      "+-------------+------------+----------------+----------------+---------+--------------+-----------------+-------------+-----------+--------------------+-------+------+-------+-----+---------+-------------+-----------+-------------+--------------------+--------------------+-------------+--------------------+------------------+-----------------+---------------+-------------+--------------------+-------------------+-----------+-----------------+---------------+------+--------------------+--------------------+--------------+----+-----+------+-------+------+---------+------+-----+----------+-----+--------------+-----------------------+--------------------+-------------------+-------------+--------------------+----+------------+-----------------+\n",
      "|Object Number|Is Highlight|Is Timeline Work|Is Public Domain|Object ID|Gallery Number|       Department|AccessionYear|Object Name|               Title|Culture|Period|Dynasty|Reign|Portfolio|Constiuent ID|Artist Role|Artist Prefix| Artist Display Name|  Artist Display Bio|Artist Suffix|   Artist Alpha Sort|Artist Nationality|Artist Begin Date|Artist End Date|Artist Gender|     Artist ULAN URL|Artist Wikidata URL|Object Date|Object Begin Date|Object End Date|Medium|          Dimensions|         Credit Line|Geography Type|City|State|County|Country|Region|Subregion|Locale|Locus|Excavation|River|Classification|Rights and Reproduction|       Link Resource|Object Wikidata URL|Metadata Date|          Repository|Tags|Tags AAT URL|Tags Wikidata URL|\n",
      "+-------------+------------+----------------+----------------+---------+--------------+-----------------+-------------+-----------+--------------------+-------+------+-------+-----+---------+-------------+-----------+-------------+--------------------+--------------------+-------------+--------------------+------------------+-----------------+---------------+-------------+--------------------+-------------------+-----------+-----------------+---------------+------+--------------------+--------------------+--------------+----+-----+------+-------+------+---------+------+-----+----------+-----+--------------+-----------------------+--------------------+-------------------+-------------+--------------------+----+------------+-----------------+\n",
      "|   1979.486.1|       False|           False|           False|        1|          null|The American Wing|         1979|       Coin|One-dollar Libert...|   null|  null|   null| null|     null|        16429|      Maker|         null|James Barton Long...|American, Delawar...|         null|Longacre, James B...|          American|       1794      |     1869      |         null|http://vocab.gett...|               null|       1853|             1853|           1853|  Gold|Dimensions unavai...|Gift of Heinz L. ...|          null|null| null|  null|   null|  null|     null|  null| null|      null| null|         Metal|                   null|http://www.metmus...|               null|         null|Metropolitan Muse...|null|        null|             null|\n",
      "|   1980.264.5|       False|           False|           False|        2|          null|The American Wing|         1980|       Coin|Ten-dollar Libert...|   null|  null|   null| null|     null|          107|      Maker|         null|  Christian Gobrecht|           1785–1844|         null| Gobrecht, Christian|              null|       1785      |     1844      |         null|http://vocab.gett...|               null|       1901|             1901|           1901|  Gold|Dimensions unavai...|Gift of Heinz L. ...|          null|null| null|  null|   null|  null|     null|  null| null|      null| null|         Metal|                   null|http://www.metmus...|               null|         null|Metropolitan Muse...|null|        null|             null|\n",
      "|     67.265.9|       False|           False|           False|        3|          null|The American Wing|         1967|       Coin|Two-and-a-Half Do...|   null|  null|   null| null|     null|         null|       null|         null|                null|                null|         null|                null|              null|             null|           null|         null|                null|               null|    1909–27|             1909|           1927|  Gold|Diam. 11/16 in. (...|Gift of C. Ruxton...|          null|null| null|  null|   null|  null|     null|  null| null|      null| null|         Metal|                   null|http://www.metmus...|               null|         null|Metropolitan Muse...|null|        null|             null|\n",
      "|    67.265.10|       False|           False|           False|        4|          null|The American Wing|         1967|       Coin|Two-and-a-Half Do...|   null|  null|   null| null|     null|         null|       null|         null|                null|                null|         null|                null|              null|             null|           null|         null|                null|               null|    1909–27|             1909|           1927|  Gold|Diam. 11/16 in. (...|Gift of C. Ruxton...|          null|null| null|  null|   null|  null|     null|  null| null|      null| null|         Metal|                   null|http://www.metmus...|               null|         null|Metropolitan Muse...|null|        null|             null|\n",
      "|    67.265.11|       False|           False|           False|        5|          null|The American Wing|         1967|       Coin|Two-and-a-Half Do...|   null|  null|   null| null|     null|         null|       null|         null|                null|                null|         null|                null|              null|             null|           null|         null|                null|               null|    1909–27|             1909|           1927|  Gold|Diam. 11/16 in. (...|Gift of C. Ruxton...|          null|null| null|  null|   null|  null|     null|  null| null|      null| null|         Metal|                   null|http://www.metmus...|               null|         null|Metropolitan Muse...|null|        null|             null|\n",
      "+-------------+------------+----------------+----------------+---------+--------------+-----------------+-------------+-----------+--------------------+-------+------+-------+-----+---------+-------------+-----------+-------------+--------------------+--------------------+-------------+--------------------+------------------+-----------------+---------------+-------------+--------------------+-------------------+-----------+-----------------+---------------+------+--------------------+--------------------+--------------+----+-----+------+-------+------+---------+------+-----+----------+-----+--------------+-----------------------+--------------------+-------------------+-------------+--------------------+----+------------+-----------------+\n",
      "only showing top 5 rows\n",
      "\n"
     ]
    }
   ],
   "source": [
    "museum_data."
   ]
  },
  {
   "cell_type": "markdown",
   "metadata": {},
   "source": [
    "Une troisième option c'est d'utiliser la méthode <code>toPandas</code>. Tel que le nom le suggère, cette méthode apportera votre DataFrame au Driver et le convertira en un DataFrame Pandas. Vous remarquerez la méthode <code>limit</code>, appliquée juste avant <code>toPandas</code>: puisque nous voulons apporter nos données au Driver, nous devons nous assurer de ne pas apporter une quantité trop élévée de lignes!"
   ]
  },
  {
   "cell_type": "code",
   "execution_count": 9,
   "metadata": {},
   "outputs": [
    {
     "data": {
      "text/html": [
       "<div>\n",
       "<style scoped>\n",
       "    .dataframe tbody tr th:only-of-type {\n",
       "        vertical-align: middle;\n",
       "    }\n",
       "\n",
       "    .dataframe tbody tr th {\n",
       "        vertical-align: top;\n",
       "    }\n",
       "\n",
       "    .dataframe thead th {\n",
       "        text-align: right;\n",
       "    }\n",
       "</style>\n",
       "<table border=\"1\" class=\"dataframe\">\n",
       "  <thead>\n",
       "    <tr style=\"text-align: right;\">\n",
       "      <th></th>\n",
       "      <th>Object Number</th>\n",
       "      <th>Is Highlight</th>\n",
       "      <th>Is Timeline Work</th>\n",
       "      <th>Is Public Domain</th>\n",
       "      <th>Object ID</th>\n",
       "      <th>Gallery Number</th>\n",
       "      <th>Department</th>\n",
       "      <th>AccessionYear</th>\n",
       "      <th>Object Name</th>\n",
       "      <th>Title</th>\n",
       "      <th>...</th>\n",
       "      <th>River</th>\n",
       "      <th>Classification</th>\n",
       "      <th>Rights and Reproduction</th>\n",
       "      <th>Link Resource</th>\n",
       "      <th>Object Wikidata URL</th>\n",
       "      <th>Metadata Date</th>\n",
       "      <th>Repository</th>\n",
       "      <th>Tags</th>\n",
       "      <th>Tags AAT URL</th>\n",
       "      <th>Tags Wikidata URL</th>\n",
       "    </tr>\n",
       "  </thead>\n",
       "  <tbody>\n",
       "    <tr>\n",
       "      <th>0</th>\n",
       "      <td>1979.486.1</td>\n",
       "      <td>False</td>\n",
       "      <td>False</td>\n",
       "      <td>False</td>\n",
       "      <td>1</td>\n",
       "      <td>None</td>\n",
       "      <td>The American Wing</td>\n",
       "      <td>1979</td>\n",
       "      <td>Coin</td>\n",
       "      <td>One-dollar Liberty Head Coin</td>\n",
       "      <td>...</td>\n",
       "      <td>None</td>\n",
       "      <td>Metal</td>\n",
       "      <td>None</td>\n",
       "      <td>http://www.metmuseum.org/art/collection/search/1</td>\n",
       "      <td>None</td>\n",
       "      <td>None</td>\n",
       "      <td>Metropolitan Museum of Art, New York, NY</td>\n",
       "      <td>None</td>\n",
       "      <td>None</td>\n",
       "      <td>None</td>\n",
       "    </tr>\n",
       "    <tr>\n",
       "      <th>1</th>\n",
       "      <td>1980.264.5</td>\n",
       "      <td>False</td>\n",
       "      <td>False</td>\n",
       "      <td>False</td>\n",
       "      <td>2</td>\n",
       "      <td>None</td>\n",
       "      <td>The American Wing</td>\n",
       "      <td>1980</td>\n",
       "      <td>Coin</td>\n",
       "      <td>Ten-dollar Liberty Head Coin</td>\n",
       "      <td>...</td>\n",
       "      <td>None</td>\n",
       "      <td>Metal</td>\n",
       "      <td>None</td>\n",
       "      <td>http://www.metmuseum.org/art/collection/search/2</td>\n",
       "      <td>None</td>\n",
       "      <td>None</td>\n",
       "      <td>Metropolitan Museum of Art, New York, NY</td>\n",
       "      <td>None</td>\n",
       "      <td>None</td>\n",
       "      <td>None</td>\n",
       "    </tr>\n",
       "    <tr>\n",
       "      <th>2</th>\n",
       "      <td>67.265.9</td>\n",
       "      <td>False</td>\n",
       "      <td>False</td>\n",
       "      <td>False</td>\n",
       "      <td>3</td>\n",
       "      <td>None</td>\n",
       "      <td>The American Wing</td>\n",
       "      <td>1967</td>\n",
       "      <td>Coin</td>\n",
       "      <td>Two-and-a-Half Dollar Coin</td>\n",
       "      <td>...</td>\n",
       "      <td>None</td>\n",
       "      <td>Metal</td>\n",
       "      <td>None</td>\n",
       "      <td>http://www.metmuseum.org/art/collection/search/3</td>\n",
       "      <td>None</td>\n",
       "      <td>None</td>\n",
       "      <td>Metropolitan Museum of Art, New York, NY</td>\n",
       "      <td>None</td>\n",
       "      <td>None</td>\n",
       "      <td>None</td>\n",
       "    </tr>\n",
       "    <tr>\n",
       "      <th>3</th>\n",
       "      <td>67.265.10</td>\n",
       "      <td>False</td>\n",
       "      <td>False</td>\n",
       "      <td>False</td>\n",
       "      <td>4</td>\n",
       "      <td>None</td>\n",
       "      <td>The American Wing</td>\n",
       "      <td>1967</td>\n",
       "      <td>Coin</td>\n",
       "      <td>Two-and-a-Half Dollar Coin</td>\n",
       "      <td>...</td>\n",
       "      <td>None</td>\n",
       "      <td>Metal</td>\n",
       "      <td>None</td>\n",
       "      <td>http://www.metmuseum.org/art/collection/search/4</td>\n",
       "      <td>None</td>\n",
       "      <td>None</td>\n",
       "      <td>Metropolitan Museum of Art, New York, NY</td>\n",
       "      <td>None</td>\n",
       "      <td>None</td>\n",
       "      <td>None</td>\n",
       "    </tr>\n",
       "    <tr>\n",
       "      <th>4</th>\n",
       "      <td>67.265.11</td>\n",
       "      <td>False</td>\n",
       "      <td>False</td>\n",
       "      <td>False</td>\n",
       "      <td>5</td>\n",
       "      <td>None</td>\n",
       "      <td>The American Wing</td>\n",
       "      <td>1967</td>\n",
       "      <td>Coin</td>\n",
       "      <td>Two-and-a-Half Dollar Coin</td>\n",
       "      <td>...</td>\n",
       "      <td>None</td>\n",
       "      <td>Metal</td>\n",
       "      <td>None</td>\n",
       "      <td>http://www.metmuseum.org/art/collection/search/5</td>\n",
       "      <td>None</td>\n",
       "      <td>None</td>\n",
       "      <td>Metropolitan Museum of Art, New York, NY</td>\n",
       "      <td>None</td>\n",
       "      <td>None</td>\n",
       "      <td>None</td>\n",
       "    </tr>\n",
       "  </tbody>\n",
       "</table>\n",
       "<p>5 rows × 54 columns</p>\n",
       "</div>"
      ],
      "text/plain": [
       "  Object Number Is Highlight Is Timeline Work Is Public Domain Object ID  \\\n",
       "0    1979.486.1        False            False            False         1   \n",
       "1    1980.264.5        False            False            False         2   \n",
       "2      67.265.9        False            False            False         3   \n",
       "3     67.265.10        False            False            False         4   \n",
       "4     67.265.11        False            False            False         5   \n",
       "\n",
       "  Gallery Number         Department AccessionYear Object Name  \\\n",
       "0           None  The American Wing          1979        Coin   \n",
       "1           None  The American Wing          1980        Coin   \n",
       "2           None  The American Wing          1967        Coin   \n",
       "3           None  The American Wing          1967        Coin   \n",
       "4           None  The American Wing          1967        Coin   \n",
       "\n",
       "                          Title  ... River Classification  \\\n",
       "0  One-dollar Liberty Head Coin  ...  None          Metal   \n",
       "1  Ten-dollar Liberty Head Coin  ...  None          Metal   \n",
       "2    Two-and-a-Half Dollar Coin  ...  None          Metal   \n",
       "3    Two-and-a-Half Dollar Coin  ...  None          Metal   \n",
       "4    Two-and-a-Half Dollar Coin  ...  None          Metal   \n",
       "\n",
       "  Rights and Reproduction                                     Link Resource  \\\n",
       "0                    None  http://www.metmuseum.org/art/collection/search/1   \n",
       "1                    None  http://www.metmuseum.org/art/collection/search/2   \n",
       "2                    None  http://www.metmuseum.org/art/collection/search/3   \n",
       "3                    None  http://www.metmuseum.org/art/collection/search/4   \n",
       "4                    None  http://www.metmuseum.org/art/collection/search/5   \n",
       "\n",
       "  Object Wikidata URL Metadata Date                                Repository  \\\n",
       "0                None          None  Metropolitan Museum of Art, New York, NY   \n",
       "1                None          None  Metropolitan Museum of Art, New York, NY   \n",
       "2                None          None  Metropolitan Museum of Art, New York, NY   \n",
       "3                None          None  Metropolitan Museum of Art, New York, NY   \n",
       "4                None          None  Metropolitan Museum of Art, New York, NY   \n",
       "\n",
       "   Tags Tags AAT URL Tags Wikidata URL  \n",
       "0  None         None              None  \n",
       "1  None         None              None  \n",
       "2  None         None              None  \n",
       "3  None         None              None  \n",
       "4  None         None              None  \n",
       "\n",
       "[5 rows x 54 columns]"
      ]
     },
     "execution_count": 9,
     "metadata": {},
     "output_type": "execute_result"
    }
   ],
   "source": [
    "museum_data."
   ]
  },
  {
   "cell_type": "markdown",
   "metadata": {},
   "source": [
    "Maintenant nous nous tournons vers la manipulation de données avec l'API SparkSQL. Nous commençons avec l'API DataFrames. La syntaxe resemble le SQL, mais au lieu d'écrire des commandes, nous appellons des méthodes exactement comme nous l'avons fait avec l'API RDD. Par exemple, nous pouvons faire un 'SELECT' pour retourner une seule colonne d'un DataFrame où une condition basée sur une autre colonne est satisfaite. En suite, nous comptons le nombre de lignes."
   ]
  },
  {
   "cell_type": "code",
   "execution_count": 22,
   "metadata": {},
   "outputs": [
    {
     "data": {
      "text/plain": [
       "3437"
      ]
     },
     "execution_count": 22,
     "metadata": {},
     "output_type": "execute_result"
    }
   ],
   "source": [
    "museum_data."
   ]
  },
  {
   "cell_type": "markdown",
   "metadata": {},
   "source": [
    "Pareil comme nous l'avons vu avec l'API RDD, vous pouvez utiliser la méthode <code>take</code> pour limiter la quantité de lignes retournées au Driver et en suite examiner les resultats:"
   ]
  },
  {
   "cell_type": "code",
   "execution_count": 44,
   "metadata": {},
   "outputs": [
    {
     "data": {
      "text/plain": [
       "[Row(Title='Jubal and Miriam', Repository='Metropolitan Museum of Art, New York, NY', AccessionYear='2019'),\n",
       " Row(Title='Towel or drying rack', Repository='Metropolitan Museum of Art, New York, NY', AccessionYear='2020'),\n",
       " Row(Title='Vase', Repository='Metropolitan Museum of Art, New York, NY', AccessionYear='2019'),\n",
       " Row(Title='Venetian Summer', Repository='Metropolitan Museum of Art, New York, NY', AccessionYear='2019'),\n",
       " Row(Title='Covered box', Repository='Metropolitan Museum of Art, New York, NY', AccessionYear='2019')]"
      ]
     },
     "execution_count": 44,
     "metadata": {},
     "output_type": "execute_result"
    }
   ],
   "source": [
    "museum_data."
   ]
  },
  {
   "cell_type": "markdown",
   "metadata": {},
   "source": [
    "Aussi de manière semblable au SQL, vous pouvez utiliser la méthode <code>distinct</code> pour ne retourner que des lignes uniques:"
   ]
  },
  {
   "cell_type": "code",
   "execution_count": 20,
   "metadata": {},
   "outputs": [
    {
     "data": {
      "text/plain": [
       "63135"
      ]
     },
     "execution_count": 20,
     "metadata": {},
     "output_type": "execute_result"
    }
   ],
   "source": [
    "museum_data."
   ]
  },
  {
   "cell_type": "code",
   "execution_count": 21,
   "metadata": {},
   "outputs": [
    {
     "data": {
      "text/plain": [
       "[Row(Artist Display Name='Marks Adjustable Folding Chair Company'),\n",
       " Row(Artist Display Name='Matsu-Zukaya Company|Frank Lloyd Wright'),\n",
       " Row(Artist Display Name='William F. Ladd'),\n",
       " Row(Artist Display Name='Edward Lycett|Faience Manufacturing Company'),\n",
       " Row(Artist Display Name='Boston & Sandwich Glass Company|Henry N. Hooper and Company')]"
      ]
     },
     "execution_count": 21,
     "metadata": {},
     "output_type": "execute_result"
    }
   ],
   "source": [
    "museum_data."
   ]
  },
  {
   "cell_type": "markdown",
   "metadata": {},
   "source": [
    "La méthode <code>groupBy</code> fonctionne comme la commande SQL \"GROUP BY\": nous l'utilisons pour faire des aggrégations de nos données:"
   ]
  },
  {
   "cell_type": "code",
   "execution_count": 23,
   "metadata": {},
   "outputs": [
    {
     "data": {
      "text/plain": [
       "[Row(Artist Display Name='Marks Adjustable Folding Chair Company', count=1),\n",
       " Row(Artist Display Name='Matsu-Zukaya Company|Frank Lloyd Wright', count=1),\n",
       " Row(Artist Display Name='William F. Ladd', count=6),\n",
       " Row(Artist Display Name='Edward Lycett|Faience Manufacturing Company', count=1),\n",
       " Row(Artist Display Name='Boston & Sandwich Glass Company|Henry N. Hooper and Company', count=1)]"
      ]
     },
     "execution_count": 23,
     "metadata": {},
     "output_type": "execute_result"
    }
   ],
   "source": [
    "museum_data."
   ]
  },
  {
   "cell_type": "code",
   "execution_count": 24,
   "metadata": {},
   "outputs": [
    {
     "data": {
      "text/plain": [
       "[Row(Artist Display Name='Andrew Ellicott Warner', AccessionYear='1987', count=10),\n",
       " Row(Artist Display Name='John and Joseph W. Meeks', AccessionYear='1969', count=1),\n",
       " Row(Artist Display Name='Julius Dessoir', AccessionYear='1969', count=1),\n",
       " Row(Artist Display Name='Peleg Armstrong and Erastus Wentworth', AccessionYear='1918', count=1),\n",
       " Row(Artist Display Name='George Fielding', AccessionYear='1923', count=1),\n",
       " Row(Artist Display Name='W. H. T.', AccessionYear='1933', count=1),\n",
       " Row(Artist Display Name='William J. Elsworth', AccessionYear='1939', count=1),\n",
       " Row(Artist Display Name='Jeronimus Alstyne', AccessionYear='1933', count=2),\n",
       " Row(Artist Display Name='John White Alexander', AccessionYear='1891', count=1),\n",
       " Row(Artist Display Name='William M. S. Doyle', AccessionYear='1937', count=1)]"
      ]
     },
     "execution_count": 24,
     "metadata": {},
     "output_type": "execute_result"
    }
   ],
   "source": [
    "museum_data."
   ]
  },
  {
   "cell_type": "markdown",
   "metadata": {},
   "source": [
    "La méthode <code>OrderBy</code> fonctionne comme la commande SQL \"ORDER BY\": vous remarquerez que sa position dans la chaîne de méthodes est la même que celle d'une commande ORDER BY dans une sequence de commandes SQL!"
   ]
  },
  {
   "cell_type": "code",
   "execution_count": 63,
   "metadata": {},
   "outputs": [
    {
     "data": {
      "text/plain": [
       "[Row(Artist Display Name=None, AccessionYear=None, count=28163),\n",
       " Row(Artist Display Name=None, AccessionYear=' 1973\"', count=1),\n",
       " Row(Artist Display Name=None, AccessionYear=' 1979\"', count=1),\n",
       " Row(Artist Display Name=None, AccessionYear=' 1984\"', count=1),\n",
       " Row(Artist Display Name=None, AccessionYear=' 1985\"', count=1)]"
      ]
     },
     "execution_count": 63,
     "metadata": {},
     "output_type": "execute_result"
    }
   ],
   "source": [
    "museum_data."
   ]
  },
  {
   "cell_type": "code",
   "execution_count": 74,
   "metadata": {},
   "outputs": [
    {
     "data": {
      "text/plain": [
       "[Row(Artist Display Name=' \"\"The great Suspension Bridge\"\"\"', AccessionYear='1994', count=1),\n",
       " Row(Artist Display Name=' 7-9', AccessionYear='1924', count=1),\n",
       " Row(Artist Display Name=' candelabra', AccessionYear='1941', count=3),\n",
       " Row(Artist Display Name=' chapter viii', AccessionYear='1963', count=1),\n",
       " Row(Artist Display Name=' à source des Sciences\"', AccessionYear='1917', count=2)]"
      ]
     },
     "execution_count": 74,
     "metadata": {},
     "output_type": "execute_result"
    }
   ],
   "source": [
    "museum_data."
   ]
  },
  {
   "cell_type": "markdown",
   "metadata": {},
   "source": [
    "Vous vous demandez peut-être pourquoi nous avons choisi un catalogue d'oeuvres d'arts d'un musée pour l'atelier. La ligne ci-dessus nous montre la raison: c'est un jeu de données très en désordre! Regardez comme aucun des outputs ci-dessus ne resemble pas à un vrai nom d'artiste. La ligne suivante nous donne de ce qui se passe: il y a trop de guillemets dans quelques unes de nos colonnes! Regardez la colonne 'Titre' pour mieux comprendre ce que nous voulons dire."
   ]
  },
  {
   "cell_type": "code",
   "execution_count": 9,
   "metadata": {},
   "outputs": [
    {
     "data": {
      "text/plain": [
       "[Row(Object Number='41.71.1.12(2)', Is Highlight='False', Is Timeline Work='False', Is Public Domain='True', Object ID='362011', Gallery Number=None, Department='Drawings and Prints', AccessionYear='1941', Object Name='Print', Title='\"Large vase found at the Pantanello, Hadrian\\'s Villa, Tivoli, in 1770 (The \"\"Warwick Vase', Culture='\"\" from Vasi', Period=' candelabri', Dynasty=' cippi', Reign=' sarcofagi', Portfolio=' tripodi', Constiuent ID=' lucerne', Artist Role=' ed ornamenti antichi disegnati ed incisi dal Cav. Gio. Batt. Piranesi', Artist Prefix=' Vol. I (Vases', Artist Display Name=' candelabra', Artist Display Bio=' grave stones', Artist Suffix=' sarcophagi', Artist Alpha Sort=' tripods', Artist Nationality=' lamps', Artist Begin Date=' and ornaments designed and etched by Cavalieri Giovanni Battista Piranesi)\"', Artist End Date=None, Artist Gender=None, Artist ULAN URL=None, Artist Wikidata URL=None, Object Date='Vasi, candelabri, cippi, sarcofagi, tripodi, lucerne, ed ornamenti antichi disegnati ed incisi dal Cav. Gio. Batt. Piranesi, Vol. I', Object Begin Date='16225', Object End Date='Artist', Medium=None, Dimensions='Giovanni Battista Piranesi', Credit Line='Italian, Mogliano Veneto 1720–1778 Rome', Geography Type=None, City='Piranesi, Giovanni Battista', State='Italian', County='1720      ', Country='1778      ', Region=None, Subregion='http://vocab.getty.edu/page/ulan/500114965', Locale='https://www.wikidata.org/wiki/Q316307', Locus='1778–80', Excavation='1778', River='1780', Classification='Etching', Rights and Reproduction='Sheet: 21 5/8 x 31 1/2 in. (55 x 80 cm)', Link Resource=None, Object Wikidata URL=None, Metadata Date=None, Repository=None, Tags=None, Tags AAT URL=None, Tags Wikidata URL=None)]"
      ]
     },
     "execution_count": 9,
     "metadata": {},
     "output_type": "execute_result"
    }
   ],
   "source": [
    "museum_data."
   ]
  },
  {
   "cell_type": "markdown",
   "metadata": {},
   "source": [
    "Nous nous servirons de Spark pour régler ces problèmes sous peu. Pour l'instant, regardons quelques autres trucs que nous pouvons faire avec l'API DataFrames, ainsi que quelques autres défauts dans notre jeu de données... Ici nous utilisons la méthode <code>like</code>  pour récupérer des lignes où na nationalité de l'artiste est un URL. Vous remarquerez la resemblence avec la syntaxe de SQL dans l'argument de la méthode <code>like</code>: le symbole 'wildcard' pour dire à Spark de chercher 'http suivi par n'importe quoi' est le '%'."
   ]
  },
  {
   "cell_type": "code",
   "execution_count": 15,
   "metadata": {},
   "outputs": [
    {
     "data": {
      "text/plain": [
       "[Row(Artist Nationality='https://www.wikidata.org/wiki/Q41176|https://www.wikidata.org/wiki/Q8441|https://www.wikidata.org/wiki/Q81054|https://www.wikidata.org/wiki/Q11446'),\n",
       " Row(Artist Nationality='https://www.wikidata.org/wiki/Q3957|https://www.wikidata.org/wiki/Q8502|https://www.wikidata.org/wiki/Q191163'),\n",
       " Row(Artist Nationality='https://www.wikidata.org/wiki/Q571|https://www.wikidata.org/wiki/Q676555|https://www.wikidata.org/wiki/Q642420'),\n",
       " Row(Artist Nationality='https://www.wikidata.org/wiki/Q289|https://www.wikidata.org/wiki/Q405|https://www.wikidata.org/wiki/Q333'),\n",
       " Row(Artist Nationality='https://www.wikidata.org/wiki/Q5113'),\n",
       " Row(Artist Nationality='https://www.wikidata.org/wiki/Q5113|https://www.wikidata.org/wiki/Q11946202|https://www.wikidata.org/wiki/Q80066'),\n",
       " Row(Artist Nationality='https://www.wikidata.org/wiki/Q7559|https://www.wikidata.org/wiki/Q1264081'),\n",
       " Row(Artist Nationality='https://www.wikidata.org/wiki/Q5937779|https://www.wikidata.org/wiki/Q43393537|https://www.wikidata.org/wiki/Q404785'),\n",
       " Row(Artist Nationality='https://www.wikidata.org/wiki/Q2239243|https://www.wikidata.org/wiki/Q506|https://www.wikidata.org/wiki/Q33971|https://www.wikidata.org/wiki/Q1207302'),\n",
       " Row(Artist Nationality='https://www.wikidata.org/wiki/Q642420|https://www.wikidata.org/wiki/Q51633')]"
      ]
     },
     "execution_count": 15,
     "metadata": {},
     "output_type": "execute_result"
    }
   ],
   "source": [
    "museum_data."
   ]
  },
  {
   "cell_type": "markdown",
   "metadata": {},
   "source": [
    "La méthode <code>where</code> retourne des lignes où la condition dans l'argument est satisfaite. L'équivalent de la commande SQL 'NOT LIKE', vous devez nier le resultat de <code>like</code> avec le symbole \"~\" (tilda). Vous remarquerez que les outputs sont en désordre ici aussi!"
   ]
  },
  {
   "cell_type": "code",
   "execution_count": 15,
   "metadata": {},
   "outputs": [
    {
     "data": {
      "text/plain": [
       "[Row(Artist Nationality='Edmonds, Francis William'),\n",
       " Row(Artist Nationality='Deities|Buddhism'),\n",
       " Row(Artist Nationality='Spanish|Italian|French'),\n",
       " Row(Artist Nationality='American, born Ukraine'),\n",
       " Row(Artist Nationality='American|Japanese'),\n",
       " Row(Artist Nationality='Brady, Mathew B.'),\n",
       " Row(Artist Nationality='British|British, born Italy'),\n",
       " Row(Artist Nationality='French|Belgian|Austrian|German|British, active France'),\n",
       " Row(Artist Nationality='German|German|Swiss|Roman|German|German'),\n",
       " Row(Artist Nationality='Puvis de Chavannes, Pierre')]"
      ]
     },
     "execution_count": 15,
     "metadata": {},
     "output_type": "execute_result"
    }
   ],
   "source": [
    "museum_data."
   ]
  },
  {
   "cell_type": "markdown",
   "metadata": {},
   "source": [
    "La ligne suivante nous donne encore une idée de ce qui se passe: regardez la première colonne, \"Object Number\". On y voit la string 'white cedar\"'. Le guillemet solitaire à la fin nous indique que ceci est probablement la fin d'une ligne entre guillemets qui a été cassée en deux car elle contient un (\\n)!"
   ]
  },
  {
   "cell_type": "code",
   "execution_count": 8,
   "metadata": {},
   "outputs": [
    {
     "data": {
      "text/plain": [
       "[Row(Object Number='white cedar\"', Is Highlight='37 x 30 1/4 x 19 1/2 in. (94 x 76.8 x 49.5 cm)', Is Timeline Work='Gift of Mrs. Russell Sage, 1909', Is Public Domain='Possibly made in|Possibly made in', Object ID='Guilford|Saybrook', Gallery Number=None, Department=None, AccessionYear='United States|United States', Object Name=None, Title=None, Culture=None, Period=None, Dynasty=None, Reign=None, Portfolio='Furniture', Constiuent ID=None, Artist Role='http://www.metmuseum.org/art/collection/search/2029', Artist Prefix=None, Artist Display Name=None, Artist Display Bio='Metropolitan Museum of Art, New York, NY', Artist Suffix='Birds|Flowers', Artist Alpha Sort='http://vocab.getty.edu/page/aat/300266506|http://vocab.getty.edu/page/aat/300132399', Artist Nationality='https://www.wikidata.org/wiki/Q5113|https://www.wikidata.org/wiki/Q506', Artist Begin Date=None, Artist End Date=None, Artist Gender=None, Artist ULAN URL=None, Artist Wikidata URL=None, Object Date=None, Object Begin Date=None, Object End Date=None, Medium=None, Dimensions=None, Credit Line=None, Geography Type=None, City=None, State=None, County=None, Country=None, Region=None, Subregion=None, Locale=None, Locus=None, Excavation=None, River=None, Classification=None, Rights and Reproduction=None, Link Resource=None, Object Wikidata URL=None, Metadata Date=None, Repository=None, Tags=None, Tags AAT URL=None, Tags Wikidata URL=None)]"
      ]
     },
     "execution_count": 8,
     "metadata": {},
     "output_type": "execute_result"
    }
   ],
   "source": [
    "museum_data."
   ]
  },
  {
   "cell_type": "markdown",
   "metadata": {},
   "source": [
    "Nous verrons comment régler ces problèmes sous peu. Avant de le faire, nous verrons pourquoi l'API s'appelle SparkSQL. La méthode <code>registerTempTable</code> vous pouvez transformer votre DataFrame en un vrai Tableau et se servir de SQL pour l'explorer!"
   ]
  },
  {
   "cell_type": "code",
   "execution_count": 5,
   "metadata": {},
   "outputs": [],
   "source": [
    "museum_data."
   ]
  },
  {
   "cell_type": "code",
   "execution_count": 6,
   "metadata": {},
   "outputs": [
    {
     "data": {
      "text/plain": [
       "[Row(Title='Jubal and Miriam', Repository='Metropolitan Museum of Art, New York, NY'),\n",
       " Row(Title='Towel or drying rack', Repository='Metropolitan Museum of Art, New York, NY'),\n",
       " Row(Title='Vase', Repository='Metropolitan Museum of Art, New York, NY'),\n",
       " Row(Title='Venetian Summer', Repository='Metropolitan Museum of Art, New York, NY'),\n",
       " Row(Title='Covered box', Repository='Metropolitan Museum of Art, New York, NY')]"
      ]
     },
     "execution_count": 6,
     "metadata": {},
     "output_type": "execute_result"
    }
   ],
   "source": [
    "spark."
   ]
  },
  {
   "cell_type": "code",
   "execution_count": 21,
   "metadata": {},
   "outputs": [
    {
     "name": "stdout",
     "output_type": "stream",
     "text": [
      "+------------+\n",
      "|count(Title)|\n",
      "+------------+\n",
      "|        2722|\n",
      "+------------+\n",
      "\n"
     ]
    }
   ],
   "source": [
    "spark."
   ]
  },
  {
   "cell_type": "code",
   "execution_count": 12,
   "metadata": {},
   "outputs": [
    {
     "name": "stdout",
     "output_type": "stream",
     "text": [
      "+-------------+------------+----------------+----------------+---------+--------------+-------------------+-------------+-----------+--------------------+------------+-----------+-------+----------+---------+-------------+--------------------+--------------+-------------------+------------------+-------------+-----------------+------------------+--------------------+---------------+-------------+---------------+-------------------+--------------------+-----------------+---------------+------+--------------------+--------------------+--------------+--------------------+-------+----------+----------+------+--------------------+--------------------+-------+----------+-----+--------------+-----------------------+-------------+-------------------+-------------+----------+----+------------+-----------------+\n",
      "|Object Number|Is Highlight|Is Timeline Work|Is Public Domain|Object ID|Gallery Number|         Department|AccessionYear|Object Name|               Title|     Culture|     Period|Dynasty|     Reign|Portfolio|Constiuent ID|         Artist Role| Artist Prefix|Artist Display Name|Artist Display Bio|Artist Suffix|Artist Alpha Sort|Artist Nationality|   Artist Begin Date|Artist End Date|Artist Gender|Artist ULAN URL|Artist Wikidata URL|         Object Date|Object Begin Date|Object End Date|Medium|          Dimensions|         Credit Line|Geography Type|                City|  State|    County|   Country|Region|           Subregion|              Locale|  Locus|Excavation|River|Classification|Rights and Reproduction|Link Resource|Object Wikidata URL|Metadata Date|Repository|Tags|Tags AAT URL|Tags Wikidata URL|\n",
      "+-------------+------------+----------------+----------------+---------+--------------+-------------------+-------------+-----------+--------------------+------------+-----------+-------+----------+---------+-------------+--------------------+--------------+-------------------+------------------+-------------+-----------------+------------------+--------------------+---------------+-------------+---------------+-------------------+--------------------+-----------------+---------------+------+--------------------+--------------------+--------------+--------------------+-------+----------+----------+------+--------------------+--------------------+-------+----------+-----+--------------+-----------------------+-------------+-------------------+-------------+----------+----+------------+-----------------+\n",
      "|41.71.1.12(2)|       False|           False|            True|   362011|          null|Drawings and Prints|         1941|      Print|\"Large vase found...|\"\" from Vasi| candelabri|  cippi| sarcofagi|  tripodi|      lucerne| ed ornamenti ant...| Vol. I (Vases|         candelabra|      grave stones|   sarcophagi|          tripods|             lamps| and ornaments de...|           null|         null|           null|               null|Vasi, candelabri,...|            16225|         Artist|  null|Giovanni Battista...|Italian, Mogliano...|          null|Piranesi, Giovann...|Italian|1720      |1778      |  null|http://vocab.gett...|https://www.wikid...|1778–80|      1778| 1780|       Etching|   Sheet: 21 5/8 x 3...|         null|               null|         null|      null|null|        null|             null|\n",
      "+-------------+------------+----------------+----------------+---------+--------------+-------------------+-------------+-----------+--------------------+------------+-----------+-------+----------+---------+-------------+--------------------+--------------+-------------------+------------------+-------------+-----------------+------------------+--------------------+---------------+-------------+---------------+-------------------+--------------------+-----------------+---------------+------+--------------------+--------------------+--------------+--------------------+-------+----------+----------+------+--------------------+--------------------+-------+----------+-----+--------------+-----------------------+-------------+-------------------+-------------+----------+----+------------+-----------------+\n",
      "\n"
     ]
    }
   ],
   "source": [
    "spark."
   ]
  },
  {
   "cell_type": "code",
   "execution_count": 15,
   "metadata": {},
   "outputs": [
    {
     "name": "stdout",
     "output_type": "stream",
     "text": [
      "+--------------------+--------------------+----------------+----------------+---------+--------------+--------------------+-------------+-----------+-----+--------------------+--------------------+-------+--------------------+---------+-------------+-----------+-------------+--------------------+------------------+-------------+-----------------+------------------+-----------------+--------------------+-------------+---------------+-------------------+-----------+-----------------+---------------+------+----------+-----------+--------------+----+-----+------+-------+------+---------+------+-----+----------+-----+--------------+-----------------------+-------------+-------------------+-------------+----------+----+------------+-----------------+\n",
      "|       Object Number|        Is Highlight|Is Timeline Work|Is Public Domain|Object ID|Gallery Number|          Department|AccessionYear|Object Name|Title|             Culture|              Period|Dynasty|               Reign|Portfolio|Constiuent ID|Artist Role|Artist Prefix| Artist Display Name|Artist Display Bio|Artist Suffix|Artist Alpha Sort|Artist Nationality|Artist Begin Date|     Artist End Date|Artist Gender|Artist ULAN URL|Artist Wikidata URL|Object Date|Object Begin Date|Object End Date|Medium|Dimensions|Credit Line|Geography Type|City|State|County|Country|Region|Subregion|Locale|Locus|Excavation|River|Classification|Rights and Reproduction|Link Resource|Object Wikidata URL|Metadata Date|Repository|Tags|Tags AAT URL|Tags Wikidata URL|\n",
      "+--------------------+--------------------+----------------+----------------+---------+--------------+--------------------+-------------+-----------+-----+--------------------+--------------------+-------+--------------------+---------+-------------+-----------+-------------+--------------------+------------------+-------------+-----------------+------------------+-----------------+--------------------+-------------+---------------+-------------------+-----------+-----------------+---------------+------+----------+-----------+--------------+----+-----+------+-------+------+---------+------+-----+----------+-----+--------------+-----------------------+-------------+-------------------+-------------+----------+----+------------+-----------------+\n",
      "|Ornament & Archit...|Temple of Anthoin...|            null|            null|     null|          null|Temples et bâtime...|        16364|     Artist| null|Jacques Androuet ...|French, Paris 151...|   null|Du Cerceau, Jacqu...|     null|   1510      | 1585      |         null|http://vocab.gett...|              null|         1545|             1545|              1545|          Etching|Sheet (trimmed): ...|         null|           null|               null|       null|             null|           null|  null|      null|       null|          null|null| null|  null|   null|  null|     null|  null| null|      null| null|          null|                   null|         null|               null|         null|      null|null|        null|             null|\n",
      "+--------------------+--------------------+----------------+----------------+---------+--------------+--------------------+-------------+-----------+-----+--------------------+--------------------+-------+--------------------+---------+-------------+-----------+-------------+--------------------+------------------+-------------+-----------------+------------------+-----------------+--------------------+-------------+---------------+-------------------+-----------+-----------------+---------------+------+----------+-----------+--------------+----+-----+------+-------+------+---------+------+-----+----------+-----+--------------+-----------------------+-------------+-------------------+-------------+----------+----+------------+-----------------+\n",
      "\n"
     ]
    }
   ],
   "source": [
    "spark."
   ]
  },
  {
   "cell_type": "markdown",
   "metadata": {},
   "source": [
    "Vous pouvez ajoutes des multiples Tableaux à votre SQLContext actif et les utiliser tel que vous l'auriez fait dans une vraie Base de Données et faire de JOINs, des UNION... pour voir les Tableaux disponibles dans un SQLContext actif, nous utilisons la méthode <code>tableNames</code>:"
   ]
  },
  {
   "cell_type": "code",
   "execution_count": 7,
   "metadata": {},
   "outputs": [
    {
     "data": {
      "text/plain": [
       "['museum']"
      ]
     },
     "execution_count": 7,
     "metadata": {},
     "output_type": "execute_result"
    }
   ],
   "source": [
    "spark."
   ]
  },
  {
   "cell_type": "markdown",
   "metadata": {},
   "source": [
    "Nous avons vu comment créer des Tableaux à l'aide de <code>registerTempTable</code>. Pour enlever des Tableaux d'une session, utilisez <code>dropTempTable</code>:"
   ]
  },
  {
   "cell_type": "code",
   "execution_count": 14,
   "metadata": {},
   "outputs": [],
   "source": [
    "spark."
   ]
  },
  {
   "cell_type": "markdown",
   "metadata": {},
   "source": [
    "Que votre DataFrame soit transformé en Tableau ou non, vous pouvez lister ses colonnes à l'aide du champ <code>columns</code> de l'objet:"
   ]
  },
  {
   "cell_type": "code",
   "execution_count": 16,
   "metadata": {},
   "outputs": [
    {
     "data": {
      "text/plain": [
       "['Object Number',\n",
       " 'Is Highlight',\n",
       " 'Is Timeline Work',\n",
       " 'Is Public Domain',\n",
       " 'Object ID',\n",
       " 'Gallery Number',\n",
       " 'Department',\n",
       " 'AccessionYear',\n",
       " 'Object Name',\n",
       " 'Title',\n",
       " 'Culture',\n",
       " 'Period',\n",
       " 'Dynasty',\n",
       " 'Reign',\n",
       " 'Portfolio',\n",
       " 'Constiuent ID',\n",
       " 'Artist Role',\n",
       " 'Artist Prefix',\n",
       " 'Artist Display Name',\n",
       " 'Artist Display Bio',\n",
       " 'Artist Suffix',\n",
       " 'Artist Alpha Sort',\n",
       " 'Artist Nationality',\n",
       " 'Artist Begin Date',\n",
       " 'Artist End Date',\n",
       " 'Artist Gender',\n",
       " 'Artist ULAN URL',\n",
       " 'Artist Wikidata URL',\n",
       " 'Object Date',\n",
       " 'Object Begin Date',\n",
       " 'Object End Date',\n",
       " 'Medium',\n",
       " 'Dimensions',\n",
       " 'Credit Line',\n",
       " 'Geography Type',\n",
       " 'City',\n",
       " 'State',\n",
       " 'County',\n",
       " 'Country',\n",
       " 'Region',\n",
       " 'Subregion',\n",
       " 'Locale',\n",
       " 'Locus',\n",
       " 'Excavation',\n",
       " 'River',\n",
       " 'Classification',\n",
       " 'Rights and Reproduction',\n",
       " 'Link Resource',\n",
       " 'Object Wikidata URL',\n",
       " 'Metadata Date',\n",
       " 'Repository',\n",
       " 'Tags',\n",
       " 'Tags AAT URL',\n",
       " 'Tags Wikidata URL']"
      ]
     },
     "execution_count": 16,
     "metadata": {},
     "output_type": "execute_result"
    }
   ],
   "source": [
    "museum_data."
   ]
  },
  {
   "cell_type": "markdown",
   "metadata": {},
   "source": [
    "Et vous pouvez effacer des colonnes d'un DataFrame avec la méthode <code>drop</code>. Ajouter des colonnes n'est pas aussi facile et nous allons voir comment le faire plus tard!"
   ]
  },
  {
   "cell_type": "code",
   "execution_count": 9,
   "metadata": {},
   "outputs": [
    {
     "data": {
      "text/html": [
       "<div>\n",
       "<style scoped>\n",
       "    .dataframe tbody tr th:only-of-type {\n",
       "        vertical-align: middle;\n",
       "    }\n",
       "\n",
       "    .dataframe tbody tr th {\n",
       "        vertical-align: top;\n",
       "    }\n",
       "\n",
       "    .dataframe thead th {\n",
       "        text-align: right;\n",
       "    }\n",
       "</style>\n",
       "<table border=\"1\" class=\"dataframe\">\n",
       "  <thead>\n",
       "    <tr style=\"text-align: right;\">\n",
       "      <th></th>\n",
       "      <th>Is Timeline Work</th>\n",
       "      <th>Is Public Domain</th>\n",
       "      <th>Object ID</th>\n",
       "      <th>Gallery Number</th>\n",
       "      <th>Department</th>\n",
       "      <th>AccessionYear</th>\n",
       "      <th>Object Name</th>\n",
       "      <th>Title</th>\n",
       "      <th>Culture</th>\n",
       "      <th>Period</th>\n",
       "      <th>...</th>\n",
       "      <th>River</th>\n",
       "      <th>Classification</th>\n",
       "      <th>Rights and Reproduction</th>\n",
       "      <th>Link Resource</th>\n",
       "      <th>Object Wikidata URL</th>\n",
       "      <th>Metadata Date</th>\n",
       "      <th>Repository</th>\n",
       "      <th>Tags</th>\n",
       "      <th>Tags AAT URL</th>\n",
       "      <th>Tags Wikidata URL</th>\n",
       "    </tr>\n",
       "  </thead>\n",
       "  <tbody>\n",
       "    <tr>\n",
       "      <th>0</th>\n",
       "      <td>False</td>\n",
       "      <td>False</td>\n",
       "      <td>1</td>\n",
       "      <td>None</td>\n",
       "      <td>The American Wing</td>\n",
       "      <td>1979</td>\n",
       "      <td>Coin</td>\n",
       "      <td>One-dollar Liberty Head Coin</td>\n",
       "      <td>None</td>\n",
       "      <td>None</td>\n",
       "      <td>...</td>\n",
       "      <td>None</td>\n",
       "      <td>Metal</td>\n",
       "      <td>None</td>\n",
       "      <td>http://www.metmuseum.org/art/collection/search/1</td>\n",
       "      <td>None</td>\n",
       "      <td>None</td>\n",
       "      <td>Metropolitan Museum of Art, New York, NY</td>\n",
       "      <td>None</td>\n",
       "      <td>None</td>\n",
       "      <td>None</td>\n",
       "    </tr>\n",
       "    <tr>\n",
       "      <th>1</th>\n",
       "      <td>False</td>\n",
       "      <td>False</td>\n",
       "      <td>2</td>\n",
       "      <td>None</td>\n",
       "      <td>The American Wing</td>\n",
       "      <td>1980</td>\n",
       "      <td>Coin</td>\n",
       "      <td>Ten-dollar Liberty Head Coin</td>\n",
       "      <td>None</td>\n",
       "      <td>None</td>\n",
       "      <td>...</td>\n",
       "      <td>None</td>\n",
       "      <td>Metal</td>\n",
       "      <td>None</td>\n",
       "      <td>http://www.metmuseum.org/art/collection/search/2</td>\n",
       "      <td>None</td>\n",
       "      <td>None</td>\n",
       "      <td>Metropolitan Museum of Art, New York, NY</td>\n",
       "      <td>None</td>\n",
       "      <td>None</td>\n",
       "      <td>None</td>\n",
       "    </tr>\n",
       "  </tbody>\n",
       "</table>\n",
       "<p>2 rows × 52 columns</p>\n",
       "</div>"
      ],
      "text/plain": [
       "  Is Timeline Work Is Public Domain Object ID Gallery Number  \\\n",
       "0            False            False         1           None   \n",
       "1            False            False         2           None   \n",
       "\n",
       "          Department AccessionYear Object Name                         Title  \\\n",
       "0  The American Wing          1979        Coin  One-dollar Liberty Head Coin   \n",
       "1  The American Wing          1980        Coin  Ten-dollar Liberty Head Coin   \n",
       "\n",
       "  Culture Period  ... River Classification Rights and Reproduction  \\\n",
       "0    None   None  ...  None          Metal                    None   \n",
       "1    None   None  ...  None          Metal                    None   \n",
       "\n",
       "                                      Link Resource Object Wikidata URL  \\\n",
       "0  http://www.metmuseum.org/art/collection/search/1                None   \n",
       "1  http://www.metmuseum.org/art/collection/search/2                None   \n",
       "\n",
       "  Metadata Date                                Repository  Tags Tags AAT URL  \\\n",
       "0          None  Metropolitan Museum of Art, New York, NY  None         None   \n",
       "1          None  Metropolitan Museum of Art, New York, NY  None         None   \n",
       "\n",
       "  Tags Wikidata URL  \n",
       "0              None  \n",
       "1              None  \n",
       "\n",
       "[2 rows x 52 columns]"
      ]
     },
     "execution_count": 9,
     "metadata": {},
     "output_type": "execute_result"
    }
   ],
   "source": [
    "museum_data."
   ]
  },
  {
   "cell_type": "markdown",
   "metadata": {},
   "source": [
    "SI vous connaissez bien le SQL, vous devez vous sentir comme chez vous avec l'API SparkSQL. Cependant, vous vous demandez peut-être... comment faire pour assigner des types aux colonnes? En d'autres mots, comment puis-je travailler sur une Basée de Données qui n'a pas de schéma?\n",
    "\n",
    "Il se trouve que des Tableaux ainsi que des DataFrames ONT des schémas dans Spark aussi! Vous pouvez le voir à l'aide de l'attribut <code>schema</code>: "
   ]
  },
  {
   "cell_type": "code",
   "execution_count": 10,
   "metadata": {},
   "outputs": [
    {
     "data": {
      "text/plain": [
       "StructType(List(StructField(Object Number,StringType,true),StructField(Is Highlight,StringType,true),StructField(Is Timeline Work,StringType,true),StructField(Is Public Domain,StringType,true),StructField(Object ID,StringType,true),StructField(Gallery Number,StringType,true),StructField(Department,StringType,true),StructField(AccessionYear,StringType,true),StructField(Object Name,StringType,true),StructField(Title,StringType,true),StructField(Culture,StringType,true),StructField(Period,StringType,true),StructField(Dynasty,StringType,true),StructField(Reign,StringType,true),StructField(Portfolio,StringType,true),StructField(Constiuent ID,StringType,true),StructField(Artist Role,StringType,true),StructField(Artist Prefix,StringType,true),StructField(Artist Display Name,StringType,true),StructField(Artist Display Bio,StringType,true),StructField(Artist Suffix,StringType,true),StructField(Artist Alpha Sort,StringType,true),StructField(Artist Nationality,StringType,true),StructField(Artist Begin Date,StringType,true),StructField(Artist End Date,StringType,true),StructField(Artist Gender,StringType,true),StructField(Artist ULAN URL,StringType,true),StructField(Artist Wikidata URL,StringType,true),StructField(Object Date,StringType,true),StructField(Object Begin Date,StringType,true),StructField(Object End Date,StringType,true),StructField(Medium,StringType,true),StructField(Dimensions,StringType,true),StructField(Credit Line,StringType,true),StructField(Geography Type,StringType,true),StructField(City,StringType,true),StructField(State,StringType,true),StructField(County,StringType,true),StructField(Country,StringType,true),StructField(Region,StringType,true),StructField(Subregion,StringType,true),StructField(Locale,StringType,true),StructField(Locus,StringType,true),StructField(Excavation,StringType,true),StructField(River,StringType,true),StructField(Classification,StringType,true),StructField(Rights and Reproduction,StringType,true),StructField(Link Resource,StringType,true),StructField(Object Wikidata URL,StringType,true),StructField(Metadata Date,StringType,true),StructField(Repository,StringType,true),StructField(Tags,StringType,true),StructField(Tags AAT URL,StringType,true),StructField(Tags Wikidata URL,StringType,true)))"
      ]
     },
     "execution_count": 10,
     "metadata": {},
     "output_type": "execute_result"
    }
   ],
   "source": [
    "museum_data."
   ]
  },
  {
   "cell_type": "markdown",
   "metadata": {},
   "source": [
    "Dans notre cas, nous n'avons pas spécifié le schéma de notre DataFrame lorsque nous l'avons chargé à partir du fichier CSV, alors Spark a decidé de lire toutes les colonnes comme si elles ne contenaient que du texte.\n",
    "\n",
    "Nous pouvons toutefois imposer un schéma à nos DataFrames avant de charger des données, pareillement comme nous le ferions en créant un Tableau vide avec du DDL sur une Base de Données.\n",
    "\n",
    "Vous verrez ci-dessous un exemple de comment nous aurions pu définir un schéma pour nos données du musée. Les entités suivantes sont dignes de prendre en note: <code>StructType</code>, <code>StructField</code> et les différents types de données. SI nous faisons une analogie avec le SQL, <code>StructType</code> sert a définir le contenu des colonnes sur une ligne et  <code>StructField</code> répresente une ligne au complèt.\n",
    "\n",
    "L'ordre des StructFields dans un StructType doit être la même que celle du jeux de données que vous souhaitez importer."
   ]
  },
  {
   "cell_type": "code",
   "execution_count": 9,
   "metadata": {},
   "outputs": [],
   "source": [
    "from pyspark.sql.types import *\n",
    "\n",
    "museum_schema = StructType([StructField('Object Number',StringType()), \n",
    "                     StructField('Is Highlight',     BooleanType()), \n",
    "                     StructField('Is Timeline Work', BooleanType()), \n",
    "                     StructField('Is Public Domain', BooleanType()),\n",
    "                     StructField('Object ID',        IntegerType()),\n",
    "                     StructField('Gallery Number',   IntegerType()),\n",
    "                     StructField('Department',       StringType()),\n",
    "                     StructField('AccessionYear',    IntegerType()),\n",
    "                     StructField('ObjectName',       StringType()),\n",
    "                     StructField('Ttile ',           StringType()),\n",
    "                     StructField('Culture',          StringType()),\n",
    "                     StructField('Period',           StringType()),\n",
    "                     StructField('Dynasty',          StringType()),\n",
    "                     StructField('Reign',            StringType()),\n",
    "                     StructField('Portfolio',        StringType()),\n",
    "                     StructField('Constituent ID',   IntegerType()),\n",
    "                     StructField('Artist Role',      StringType()),\n",
    "                     StructField('Artist Prefix',    StringType()),\n",
    "                     StructField('Artist Display Name',StringType()),\n",
    "                     StructField('Artist Display Bio',StringType()),\n",
    "                     StructField('Artist Suffix',    StringType()),\n",
    "                     StructField('Artist Alpha Sort',StringType()),\n",
    "                     StructField('Artist Nationality',StringType()),\n",
    "                     StructField('Artist Begin Date',IntegerType()),\n",
    "                     StructField('Artist End Date',  IntegerType()),\n",
    "                     StructField('Artist Gender',    StringType()),\n",
    "                     StructField('Artist ULAN URL',  StringType()),\n",
    "                     StructField('Artist Wikidata URL',StringType()),\n",
    "                     StructField('Object Date',      DateType()),\n",
    "                     StructField('Object Begin Date',IntegerType()),\n",
    "                     StructField('Object End Date',  IntegerType()),\n",
    "                     StructField('Object Display Name',StringType()),\n",
    "                     StructField('Medium',           StringType()),\n",
    "                     StructField('Dimensions',       StringType()),\n",
    "                     StructField('Credit Line',      StringType()),\n",
    "                     StructField('Geography Type',   StringType()),\n",
    "                     StructField('City',             StringType()),\n",
    "                     StructField('State',            StringType()),\n",
    "                     StructField('County',           StringType()),\n",
    "                     StructField('Country',          StringType()),\n",
    "                     StructField('Region',           StringType()),\n",
    "                     StructField('Subregion',        StringType()),\n",
    "                     StructField('Locale',           StringType()),\n",
    "                     StructField('Locus',            StringType()),\n",
    "                     StructField('Excavation',       StringType()),\n",
    "                     StructField('River',            StringType()),\n",
    "                     StructField('Classification',   StringType()),\n",
    "                     StructField('Rights and Reproduction',StringType()),\n",
    "                     StructField('Link Resource',    StringType()),\n",
    "                     StructField('Object Wikidata URL',StringType()),\n",
    "                     StructField('Metadata Date',    DateType()),\n",
    "                     StructField('Repository',       StringType()),\n",
    "                     StructField('Tags',             StringType()),\n",
    "                     StructField('Tags AAT URL',     StringType()),\n",
    "                     StructField('Tags Wikidata URL',StringType())\n",
    "                    ])"
   ]
  },
  {
   "cell_type": "markdown",
   "metadata": {},
   "source": [
    "Maintenant nous allons importer notre CSV et lui imposer le schéma ci-dessus. Pour le faire, nous ajouterons le paramètre 'schema' à notre appel à la méthode <code>csv</code>:"
   ]
  },
  {
   "cell_type": "code",
   "execution_count": 10,
   "metadata": {},
   "outputs": [
    {
     "data": {
      "text/plain": [
       "Row(Object Number=None, Is Highlight=None, Is Timeline Work=None, Is Public Domain=None, Object ID=None, Gallery Number=None, Department=None, AccessionYear=None, ObjectName=None, Ttile =None, Culture=None, Period=None, Dynasty=None, Reign=None, Portfolio=None, Constituent ID=None, Artist Role=None, Artist Prefix=None, Artist Display Name=None, Artist Display Bio=None, Artist Suffix=None, Artist Alpha Sort=None, Artist Nationality=None, Artist Begin Date=None, Artist End Date=None, Artist Gender=None, Artist ULAN URL=None, Artist Wikidata URL=None, Object Date=None, Object Begin Date=None, Object End Date=None, Object Display Name=None, Medium=None, Dimensions=None, Credit Line=None, Geography Type=None, City=None, State=None, County=None, Country=None, Region=None, Subregion=None, Locale=None, Locus=None, Excavation=None, River=None, Classification=None, Rights and Reproduction=None, Link Resource=None, Object Wikidata URL=None, Metadata Date=None, Repository=None, Tags=None, Tags AAT URL=None, Tags Wikidata URL=None)"
      ]
     },
     "execution_count": 10,
     "metadata": {},
     "output_type": "execute_result"
    }
   ],
   "source": [
    "museum_data = \n",
    "\n",
    "museum_data.head()"
   ]
  },
  {
   "cell_type": "markdown",
   "metadata": {},
   "source": [
    "Tous nos données ont été chargées comme des objets de type <code>None</code>, ce que vous pouvez voir comme étant un équivalent en Python du <code>NULL</code> du SQL. Nous pouvons vérifier que, en effet, **tous** nos données ont été chargées en 'NULL' à l'aide de la ligne suivante. La méthode <code>dropna</code>, utilisée sans aucun argument, filtre toutes les lignes avec des NULLs de notre DataFrame:"
   ]
  },
  {
   "cell_type": "code",
   "execution_count": 41,
   "metadata": {},
   "outputs": [
    {
     "data": {
      "text/plain": [
       "0"
      ]
     },
     "execution_count": 41,
     "metadata": {},
     "output_type": "execute_result"
    }
   ],
   "source": [
    "museum_data."
   ]
  },
  {
   "cell_type": "markdown",
   "metadata": {},
   "source": [
    "Qu'est-ce que vient de se passer? Nous savons que notre jeu de donées est en désordre et que probablement il y a plusieurs lignes qui ne respecteront pas notre schéma. L'approche de SparkSQL lors du chargement de données est par défaut de 'planter' lorsqu'il y a des inputs mal-formatés!\n",
    "\n",
    "Nous pouvons changer l'approche en ajoutant une option à notre CSV reader pour ignorer des inputs mal-formatés et garder seulement ceux qui sont bien formatés:"
   ]
  },
  {
   "cell_type": "code",
   "execution_count": 12,
   "metadata": {},
   "outputs": [
    {
     "data": {
      "text/plain": [
       "5362"
      ]
     },
     "execution_count": 12,
     "metadata": {},
     "output_type": "execute_result"
    }
   ],
   "source": [
    "museum_data = \n",
    "\n",
    "museum_data.count()"
   ]
  },
  {
   "cell_type": "markdown",
   "metadata": {},
   "source": [
    "On dirait qu'il y a vraiment beaucoup de lignes qui ne respectent pas notre schéma...\n",
    "\n",
    "De manière générale, imposer des schémas avec SparkSQL est une bonne idée quand nous savons que notre source de données est **propre** pour la plupart. C'est à dire, le nombre de colonnes et leurs types respecteront le schéma que nous voulons leur imposer. Avoir un schéma bien-défini en SparkSQL vous permettra d'utiliser des fonctions built-in directement, sans avoir à se soucier de convertir le type de vos colonnes, ou en créer des nouvelles juste pour se servir d'une fonction en particulier. Un bon exemple de scénario où avoir un schéma c'est gagnant, c'est quand nous faisons face à des données temporels avec des Dates ou des Timestapms.\n",
    "\n",
    "Puisque nous savons que notre jeu de données est vraiment en désordre, il est mieux de ne pas imposer un schéma et de laisser Spark le décider à la place. Nous ajouterons donc l'option 'inferschema' pour dire à Spark que nous aimerions qu'il essaie de inferer le schéma à partir de nos données.  **Spoiler alert:** Spark n'est pas très doué pour inferer des schémas."
   ]
  },
  {
   "cell_type": "code",
   "execution_count": 13,
   "metadata": {},
   "outputs": [
    {
     "data": {
      "text/plain": [
       "382209"
      ]
     },
     "execution_count": 13,
     "metadata": {},
     "output_type": "execute_result"
    }
   ],
   "source": [
    "museum_data = \n",
    "museum_data.count()"
   ]
  },
  {
   "cell_type": "markdown",
   "metadata": {},
   "source": [
    "Mieux, mais nous sommes encore loin d'avoir toutes les 500k lignes de notre CSV original.\n",
    "\n",
    "Nous avions identifié deux problèmes avec nos données:\n",
    "\n",
    "1. Trop de guillemets dans quelques lignes.\n",
    "2. Des line-breaks à l'interieur d'un ligne entre guillemets.\n",
    "\n",
    "Essayons de régler ces problèmes maintenant, et voyons si cela veut dire que nous aurons plus de lignes. D'abord nous utilisons l'option 'multiline' pour dire à Spark qu'il y a des line-breaks **à l'interieur** des colonnes de notre CSV, et elles n'indiquent pas la fin d'une ligne!"
   ]
  },
  {
   "cell_type": "code",
   "execution_count": 5,
   "metadata": {},
   "outputs": [
    {
     "data": {
      "text/plain": [
       "464607"
      ]
     },
     "execution_count": 5,
     "metadata": {},
     "output_type": "execute_result"
    }
   ],
   "source": [
    "museum_data = \n",
    "museum_data.count()"
   ]
  },
  {
   "cell_type": "markdown",
   "metadata": {},
   "source": [
    "Beaucoup mieux! Vérifions si ceci a réglé notre problème avec les URLs dans la colonne qui devrait contenir la nationalité des artistes:"
   ]
  },
  {
   "cell_type": "code",
   "execution_count": 52,
   "metadata": {},
   "outputs": [
    {
     "data": {
      "text/plain": [
       "[]"
      ]
     },
     "execution_count": 52,
     "metadata": {},
     "output_type": "execute_result"
    }
   ],
   "source": [
    "museum_data."
   ]
  },
  {
   "cell_type": "markdown",
   "metadata": {},
   "source": [
    "Il paraît que aumoins il n'y a plus de URL dans cette colonne. Vérifions si les URLs sont dans la bonne colonne maintenant:"
   ]
  },
  {
   "cell_type": "code",
   "execution_count": 16,
   "metadata": {},
   "outputs": [
    {
     "data": {
      "text/plain": [
       "[Row(Object Number='29.100.762', Is Highlight='False', Is Timeline Work='False', Is Public Domain='False', Object ID='58673', Gallery Number=None, Department='Asian Art', AccessionYear='1929', Object Name='Inrō', Title=None, Culture='Japan', Period='Edo period (1615–1868)', Dynasty=None, Reign=None, Portfolio=None, Constiuent ID='16147', Artist Role='Artist', Artist Prefix=None, Artist Display Name='Louisine W. Havemeyer', Artist Display Bio=None, Artist Suffix=None, Artist Alpha Sort='Havemeyer, Louisine W.', Artist Nationality=None, Artist Begin Date='1855      ', Artist End Date='1929      ', Artist Gender='Female', Artist ULAN URL='http://vocab.getty.edu/page/ulan/500435594', Artist Wikidata URL='https://www.wikidata.org/wiki/Q539280', Object Date='19th century', Object Begin Date='1800', Object End Date='1899', Medium='Lacquer, gold, hirame, gold and coloured hiramakie, takamakie, nashiji; Interior: nashiji and fundame', Dimensions='3 5/16 x 1 15/16 x 1 in. (8.4 x 5 x 2.6 cm)', Credit Line='H. O. Havemeyer Collection, Bequest of Mrs. H. O. Havemeyer, 1929', Geography Type=None, City=None, State=None, County=None, Country=None, Region=None, Subregion=None, Locale=None, Locus=None, Excavation=None, River=None, Classification='Inrō', Rights and Reproduction=None, Link Resource='http://www.metmuseum.org/art/collection/search/58673', Object Wikidata URL=None, Metadata Date=None, Repository='Metropolitan Museum of Art, New York, NY', Tags='Birds|Moon|Trees', Tags AAT URL='http://vocab.getty.edu/page/aat/300266506|http://vocab.getty.edu/page/aat/300386951|http://vocab.getty.edu/page/aat/300132410', Tags Wikidata URL='https://www.wikidata.org/wiki/Q5113|https://www.wikidata.org/wiki/Q405|https://www.wikidata.org/wiki/Q10884')]"
      ]
     },
     "execution_count": 16,
     "metadata": {},
     "output_type": "execute_result"
    }
   ],
   "source": [
    "museum_data.where(museum_data['Tags AAT URL']=='http://vocab.getty.edu/page/aat/300266506|http://vocab.getty.edu/page/aat/300386951|http://vocab.getty.edu/page/aat/300132410').take(1)"
   ]
  },
  {
   "cell_type": "markdown",
   "metadata": {},
   "source": [
    "Bingo! Maintenant essayons de régler le problème des guillemets en trop. Nous le faisons en ajoutant l'option 'escape', ce qui indique que toute occurence d'un guillemet (\") dans une colonne doit être lu comme un simple symbole et non pas un vrai guillemet capable de changer la structure du CSV:"
   ]
  },
  {
   "cell_type": "code",
   "execution_count": 17,
   "metadata": {},
   "outputs": [
    {
     "data": {
      "text/plain": [
       "474526"
      ]
     },
     "execution_count": 17,
     "metadata": {},
     "output_type": "execute_result"
    }
   ],
   "source": [
    "museum_data = \n",
    "museum_data.count()"
   ]
  },
  {
   "cell_type": "markdown",
   "metadata": {},
   "source": [
    "Ça nous a donné 10k lignes de plus, pas pire! Vérifions l'état d'une des lignes \"brisées\" que nous avions:"
   ]
  },
  {
   "cell_type": "code",
   "execution_count": 18,
   "metadata": {},
   "outputs": [
    {
     "data": {
      "text/plain": [
       "[]"
      ]
     },
     "execution_count": 18,
     "metadata": {},
     "output_type": "execute_result"
    }
   ],
   "source": [
    "museum_data."
   ]
  },
  {
   "cell_type": "code",
   "execution_count": 41,
   "metadata": {},
   "outputs": [
    {
     "data": {
      "text/plain": [
       "[Row(﻿Object Number='41.71.1.12(2)', Is Highlight=False, Is Timeline Work=False, Is Public Domain=True, Object ID=362011, Gallery Number=None, Department='Drawings and Prints', AccessionYear='1941', Object Name='Print', Title='Large vase found at the Pantanello, Hadrian\\'s Villa, Tivoli, in 1770 (The \"Warwick Vase,\" from Vasi, candelabri, cippi, sarcofagi, tripodi, lucerne, ed ornamenti antichi disegnati ed incisi dal Cav. Gio. Batt. Piranesi, Vol. I (Vases, candelabra, grave stones, sarcophagi, tripods, lamps, and ornaments designed and etched by Cavalieri Giovanni Battista Piranesi)', Culture=None, Period=None, Dynasty=None, Reign=None, Portfolio='Vasi, candelabri, cippi, sarcofagi, tripodi, lucerne, ed ornamenti antichi disegnati ed incisi dal Cav. Gio. Batt. Piranesi, Vol. I', Constiuent ID=16225.0, Artist Role='Artist', Artist Prefix=None, Artist Display Name='Giovanni Battista Piranesi', Artist Display Bio='Italian, Mogliano Veneto 1720–1778 Rome', Artist Suffix=None, Artist Alpha Sort='Piranesi, Giovanni Battista', Artist Nationality='Italian', Artist Begin Date='1720      ', Artist End Date='1778      ', Artist Gender=None, Artist ULAN URL='http://vocab.getty.edu/page/ulan/500114965', Artist Wikidata URL='https://www.wikidata.org/wiki/Q316307', Object Date='1778–80', Object Begin Date=1778, Object End Date=1780, Medium='Etching', Dimensions='Sheet: 21 5/8 x 31 1/2 in. (55 x 80 cm)\\r\\nPlate: 27 15/16 x 18 5/8 in. (71 x 47.3 cm) printed horizontally', Credit Line='Rogers Fund, transferred from the Library', Geography Type=None, City=None, State=None, County=None, Country=None, Region=None, Subregion=None, Locale=None, Locus=None, Excavation=None, River=None, Classification='Prints', Rights and Reproduction=None, Link Resource='http://www.metmuseum.org/art/collection/search/362011', Object Wikidata URL=None, Metadata Date=None, Repository='Metropolitan Museum of Art, New York, NY', Tags='Faces|Vases', Tags AAT URL='http://vocab.getty.edu/page/aat/300251798|http://vocab.getty.edu/page/aat/300132254', Tags Wikidata URL\n",
       " ='https://www.wikidata.org/wiki/Q37017|https://www.wikidata.org/wiki/Q191851\\r')]"
      ]
     },
     "execution_count": 41,
     "metadata": {},
     "output_type": "execute_result"
    }
   ],
   "source": [
    "museum_data."
   ]
  },
  {
   "cell_type": "markdown",
   "metadata": {},
   "source": [
    "Le point crucial ici est que beacoup des problèmes de qualité que nous observons souvant sur des données peuvent être réparés lors que nous les chargeons dans Spark. Cela s'applique également à la plupart des autres formats que le CSV supportés par Spark! ALors, si vous voyez des problèmes comme ceux que nous avons réglé, un bon premier pas c'est d'utiliser les options de la méthode <code>read</code> pour les réparer. Pour plus d'infos sur ces options, regardez ici: https://spark.apache.org/docs/latest/sql-data-sources.html\n",
    "\n",
    "Il reste encore d'autres problèmes dans notre jeu de données. Vous êtes les bienvnus pour essayer de les trouver. Il devrait être possible de les réparer en utilisant les options du CSV reader.\n",
    "\n",
    "Si par contre vous n'arrivez pas à régler un problème à l'aide de la méthode <code>read</code>, ou si vous souhaitez transformer une colonne qui a été chargé incorrectement, ou bien si vous voulez ajouter une nouvelle colonne à votre DataFrame, il y a un outil très puissant à votre disposition... l'API RDD!\n",
    "\n",
    "Vous pouvez extraire un RDD d'un DataFrame en lisant l'attribut <code>rdd</code> comme ceci:"
   ]
  },
  {
   "cell_type": "code",
   "execution_count": 27,
   "metadata": {},
   "outputs": [],
   "source": [
    "museum_rdd = museum_data.rdd"
   ]
  },
  {
   "cell_type": "markdown",
   "metadata": {},
   "source": [
    "Un DataFrame est, comme nous l'avons déjà vu, un RDD où les éléments sont des objets de la classe Row:"
   ]
  },
  {
   "cell_type": "code",
   "execution_count": 7,
   "metadata": {},
   "outputs": [
    {
     "data": {
      "text/plain": [
       "[Row(﻿Object Number='1979.486.1', Is Highlight=False, Is Timeline Work=False, Is Public Domain=False, Object ID=1, Gallery Number=None, Department='The American Wing', AccessionYear='1979', Object Name='Coin', Title='One-dollar Liberty Head Coin', Culture=None, Period=None, Dynasty=None, Reign=None, Portfolio=None, Constiuent ID=16429.0, Artist Role='Maker', Artist Prefix=None, Artist Display Name='James Barton Longacre', Artist Display Bio='American, Delaware County, Pennsylvania 1794–1869 Philadelphia, Pennsylvania', Artist Suffix=None, Artist Alpha Sort='Longacre, James Barton', Artist Nationality='American', Artist Begin Date='1794      ', Artist End Date='1869      ', Artist Gender=None, Artist ULAN URL='http://vocab.getty.edu/page/ulan/500011409', Artist Wikidata URL=None, Object Date='1853', Object Begin Date=1853, Object End Date=1853, Medium='Gold', Dimensions='Dimensions unavailable', Credit Line='Gift of Heinz L. Stoppelmann, 1979', Geography Type=None, City=None, State=None, County=None, Country=None, Region=None, Subregion=None, Locale=None, Locus=None, Excavation=None, River=None, Classification='Metal', Rights and Reproduction=None, Link Resource='http://www.metmuseum.org/art/collection/search/1', Object Wikidata URL=None, Metadata Date=None, Repository='Metropolitan Museum of Art, New York, NY', Tags=None, Tags AAT URL=None, Tags Wikidata URL\n",
       " ='\\r')]"
      ]
     },
     "execution_count": 7,
     "metadata": {},
     "output_type": "execute_result"
    }
   ],
   "source": [
    "museum_rdd.take(1)"
   ]
  },
  {
   "cell_type": "markdown",
   "metadata": {},
   "source": [
    "Des objets de cette classe ne sont pas très utiles hors du contexte de l'API SparkSQL, nous convertissons alors tous les éléments en objets Python du type <code>lists</code>:"
   ]
  },
  {
   "cell_type": "code",
   "execution_count": 8,
   "metadata": {},
   "outputs": [
    {
     "data": {
      "text/plain": [
       "[['1979.486.1',\n",
       "  False,\n",
       "  False,\n",
       "  False,\n",
       "  1,\n",
       "  None,\n",
       "  'The American Wing',\n",
       "  '1979',\n",
       "  'Coin',\n",
       "  'One-dollar Liberty Head Coin',\n",
       "  None,\n",
       "  None,\n",
       "  None,\n",
       "  None,\n",
       "  None,\n",
       "  16429.0,\n",
       "  'Maker',\n",
       "  None,\n",
       "  'James Barton Longacre',\n",
       "  'American, Delaware County, Pennsylvania 1794–1869 Philadelphia, Pennsylvania',\n",
       "  None,\n",
       "  'Longacre, James Barton',\n",
       "  'American',\n",
       "  '1794      ',\n",
       "  '1869      ',\n",
       "  None,\n",
       "  'http://vocab.getty.edu/page/ulan/500011409',\n",
       "  None,\n",
       "  '1853',\n",
       "  1853,\n",
       "  1853,\n",
       "  'Gold',\n",
       "  'Dimensions unavailable',\n",
       "  'Gift of Heinz L. Stoppelmann, 1979',\n",
       "  None,\n",
       "  None,\n",
       "  None,\n",
       "  None,\n",
       "  None,\n",
       "  None,\n",
       "  None,\n",
       "  None,\n",
       "  None,\n",
       "  None,\n",
       "  None,\n",
       "  'Metal',\n",
       "  None,\n",
       "  'http://www.metmuseum.org/art/collection/search/1',\n",
       "  None,\n",
       "  None,\n",
       "  'Metropolitan Museum of Art, New York, NY',\n",
       "  None,\n",
       "  None,\n",
       "  '\\r']]"
      ]
     },
     "execution_count": 8,
     "metadata": {},
     "output_type": "execute_result"
    }
   ],
   "source": [
    "museum_rdd."
   ]
  },
  {
   "cell_type": "markdown",
   "metadata": {},
   "source": [
    "Rappellez-vous maintenant que nous vous avons dit que ajouter des colonnes à un DataFrame n'est pas facile? Il y plusieurs façons de le faire, mais aucune n'est particulièrement évidente. Celle que nous recommendons, à cause de la flexibilité qu'elle permet au programmeur est d'utiliser l'API RDD. Comme exemple, nous ajouterons un '1' à chaque élément de notre RDD si la nationalité de l'artiste est \"Canadian\", un '0' si l'artiste n'est pas Canadien et un 'NA' si la nationalité est un NULL:"
   ]
  },
  {
   "cell_type": "code",
   "execution_count": 28,
   "metadata": {},
   "outputs": [],
   "source": [
    "museum_rdd = museum_rdd."
   ]
  },
  {
   "cell_type": "markdown",
   "metadata": {},
   "source": [
    "Maintenant créons une liste Python contenant les noms originels des colonnes de notre DataFrame, et ajoutons un seul nouveau nom: \"Is Canadian\""
   ]
  },
  {
   "cell_type": "code",
   "execution_count": 33,
   "metadata": {},
   "outputs": [],
   "source": [
    "column_names = "
   ]
  },
  {
   "cell_type": "markdown",
   "metadata": {},
   "source": [
    "Maintenant nous allons convertir l'RDD en DataFrame à nouveau, et nous passerons notre liste de noms de colonnes comme un argument pour dire à Spark de quoi doit avoir l'air notre nouveau DataFrame. Le deuxième argument dit à Spark quel pourcentage de nos données Spark doit utiliser pour essayer d'inferer le schéma. Si dontre jeu de données est trop gros, même 1% (0.01) pourra causer des délais importants."
   ]
  },
  {
   "cell_type": "code",
   "execution_count": 35,
   "metadata": {},
   "outputs": [],
   "source": [
    "museum_data = "
   ]
  },
  {
   "cell_type": "code",
   "execution_count": 36,
   "metadata": {},
   "outputs": [
    {
     "data": {
      "text/plain": [
       "[Row(﻿Object Number='1979.486.1', Is Highlight=False, Is Timeline Work=False, Is Public Domain=False, Object ID=1, Gallery Number=None, Department='The American Wing', AccessionYear='1979', Object Name='Coin', Title='One-dollar Liberty Head Coin', Culture=None, Period=None, Dynasty=None, Reign=None, Portfolio=None, Constiuent ID=16429.0, Artist Role='Maker', Artist Prefix=None, Artist Display Name='James Barton Longacre', Artist Display Bio='American, Delaware County, Pennsylvania 1794–1869 Philadelphia, Pennsylvania', Artist Suffix=None, Artist Alpha Sort='Longacre, James Barton', Artist Nationality='American', Artist Begin Date='1794      ', Artist End Date='1869      ', Artist Gender=None, Artist ULAN URL='http://vocab.getty.edu/page/ulan/500011409', Artist Wikidata URL=None, Object Date='1853', Object Begin Date=1853, Object End Date=1853, Medium='Gold', Dimensions='Dimensions unavailable', Credit Line='Gift of Heinz L. Stoppelmann, 1979', Geography Type=None, City=None, State=None, County=None, Country=None, Region=None, Subregion=None, Locale=None, Locus=None, Excavation=None, River=None, Classification='Metal', Rights and Reproduction=None, Link Resource='http://www.metmuseum.org/art/collection/search/1', Object Wikidata URL=None, Metadata Date=None, Repository='Metropolitan Museum of Art, New York, NY', Tags=None, Tags AAT URL=None, Tags Wikidata URL\n",
       " ='\\r', Is Canadian='0')]"
      ]
     },
     "execution_count": 36,
     "metadata": {},
     "output_type": "execute_result"
    }
   ],
   "source": [
    "museum_data.take(1)"
   ]
  },
  {
   "cell_type": "markdown",
   "metadata": {},
   "source": [
    "Et ça conclut notre introduction à l'API SparkSQL. Cette API est extrement puissante et il y a beaucoup d'autres fonctionalités que nous n'avons pas couvert dans l'atelier."
   ]
  },
  {
   "cell_type": "code",
   "execution_count": null,
   "metadata": {},
   "outputs": [],
   "source": []
  }
 ],
 "metadata": {
  "kernelspec": {
   "display_name": "Python 3",
   "language": "python",
   "name": "python3"
  },
  "language_info": {
   "codemirror_mode": {
    "name": "ipython",
    "version": 3
   },
   "file_extension": ".py",
   "mimetype": "text/x-python",
   "name": "python",
   "nbconvert_exporter": "python",
   "pygments_lexer": "ipython3",
   "version": "3.8.2"
  }
 },
 "nbformat": 4,
 "nbformat_minor": 4
}
